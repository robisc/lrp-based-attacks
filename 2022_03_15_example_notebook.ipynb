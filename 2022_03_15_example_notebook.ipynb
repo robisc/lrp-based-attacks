{
 "cells": [
  {
   "cell_type": "code",
   "execution_count": 1,
   "metadata": {},
   "outputs": [],
   "source": [
    "import numpy as np\n",
    "import pandas as pd\n",
    "import lrp\n",
    "import matplotlib.pyplot as plt\n",
    "import tensorflow as tf\n",
    "import os\n",
    "import seaborn as sns"
   ]
  },
  {
   "cell_type": "markdown",
   "metadata": {},
   "source": [
    "# Load the dataset and classifier"
   ]
  },
  {
   "cell_type": "code",
   "execution_count": 2,
   "metadata": {},
   "outputs": [],
   "source": [
    "from tensorflow.keras.datasets import mnist\n",
    "(x_train, y_train), (x_test, y_test) = mnist.load_data()"
   ]
  },
  {
   "cell_type": "markdown",
   "metadata": {},
   "source": [
    "In order to recieve the best results with this LRP implementation, the input data is scaled to the values [-1,...,1]"
   ]
  },
  {
   "cell_type": "code",
   "execution_count": 3,
   "metadata": {},
   "outputs": [],
   "source": [
    "x_train = (((x_train/255)*2)-1)\n",
    "x_train = np.expand_dims(x_train, axis=-1)\n",
    "x_test = (((x_test/255)*2)-1)\n",
    "x_test = np.expand_dims(x_test, axis=-1)"
   ]
  },
  {
   "cell_type": "code",
   "execution_count": 4,
   "metadata": {},
   "outputs": [
    {
     "data": {
      "text/plain": [
       "<matplotlib.image.AxesImage at 0x1d2bce15af0>"
      ]
     },
     "execution_count": 4,
     "metadata": {},
     "output_type": "execute_result"
    },
    {
     "data": {
      "image/png": "[encoded data removed]",
      "text/plain": [
       "<Figure size 432x288 with 1 Axes>"
      ]
     },
     "metadata": {
      "needs_background": "light"
     },
     "output_type": "display_data"
    }
   ],
   "source": [
    "plt.imshow(x_test[1,:,:,0], cmap=\"gray\")"
   ]
  },
  {
   "cell_type": "code",
   "execution_count": 6,
   "metadata": {},
   "outputs": [
    {
     "name": "stdout",
     "output_type": "stream",
     "text": [
      "WARNING:tensorflow:SavedModel saved prior to TF 2.5 detected when loading Keras model. Please ensure that you are saving the model with model.save() or tf.keras.models.save_model(), *NOT* tf.saved_model.save(). To confirm, there should be a file named \"keras_metadata.pb\" in the SavedModel directory.\n"
     ]
    }
   ],
   "source": [
    "classifier = tf.keras.models.load_model(os.path.join(\"mnist5.hdf5\"))"
   ]
  },
  {
   "cell_type": "code",
   "execution_count": 7,
   "metadata": {},
   "outputs": [
    {
     "name": "stdout",
     "output_type": "stream",
     "text": [
      "Model: \"model\"\n",
      "_________________________________________________________________\n",
      " Layer (type)                Output Shape              Param #   \n",
      "=================================================================\n",
      " input_1 (InputLayer)        [(None, 28, 28, 1)]       0         \n",
      "                                                                 \n",
      " conv2d (Conv2D)             (None, 28, 28, 32)        320       \n",
      "                                                                 \n",
      " conv2d_1 (Conv2D)           (None, 28, 28, 32)        9248      \n",
      "                                                                 \n",
      " max_pooling2d (MaxPooling2D  (None, 14, 14, 32)       0         \n",
      " )                                                               \n",
      "                                                                 \n",
      " conv2d_2 (Conv2D)           (None, 14, 14, 64)        18496     \n",
      "                                                                 \n",
      " conv2d_3 (Conv2D)           (None, 14, 14, 64)        36928     \n",
      "                                                                 \n",
      " max_pooling2d_1 (MaxPooling  (None, 7, 7, 64)         0         \n",
      " 2D)                                                             \n",
      "                                                                 \n",
      " flatten (Flatten)           (None, 3136)              0         \n",
      "                                                                 \n",
      " dense (Dense)               (None, 128)               401536    \n",
      "                                                                 \n",
      " dense_1 (Dense)             (None, 10)                1290      \n",
      "                                                                 \n",
      "=================================================================\n",
      "Total params: 467,818\n",
      "Trainable params: 467,818\n",
      "Non-trainable params: 0\n",
      "_________________________________________________________________\n"
     ]
    }
   ],
   "source": [
    "classifier.summary()"
   ]
  },
  {
   "cell_type": "markdown",
   "metadata": {},
   "source": [
    "### Create an explainer object"
   ]
  },
  {
   "cell_type": "code",
   "execution_count": 8,
   "metadata": {},
   "outputs": [],
   "source": [
    "explainer = lrp.LrpExplainer(classifier, \n",
    "                             [\"final\", \"ab\", \"avg\", \"ab\", \"ab\", \"avg\", \"flatten\", \"eps\", \"0\"], #this LRP process must define a rule for each layer. for reference what rule to choose, see here: https://iphome.hhi.de/samek/pdf/MonXAI19.pdf\n",
    "                             a = 2, b = -1,  #These are hyper parameters a & b, according to LRP specificationsw\n",
    "                             verbose = True) #Enables additional printouts and returns of the relprop function"
   ]
  },
  {
   "cell_type": "markdown",
   "metadata": {},
   "source": [
    "### As verbose is True, additional logs are printed and returned"
   ]
  },
  {
   "cell_type": "code",
   "execution_count": null,
   "metadata": {},
   "outputs": [],
   "source": [
    "img = x_test[1,...]\n",
    "label = np.eye(10)[y_test[1],:]"
   ]
  },
  {
   "cell_type": "code",
   "execution_count": 9,
   "metadata": {},
   "outputs": [
    {
     "name": "stdout",
     "output_type": "stream",
     "text": [
      "calculating LRP of  <keras.engine.functional.Functional object at 0x000001D2AF9313A0>\n",
      "['final', 'ab', 'avg', 'ab', 'ab', 'avg', 'flatten', 'eps', '0']\n",
      "###################\n",
      "getting values\n",
      "propagating relevance regarding classification:  2\n",
      "In layer  -1  :  <keras.layers.core.dense.Dense object at 0x000001D2BDB86B20>  check-value:  0.9979440753842187\n",
      "In layer  -2  :  <keras.layers.core.dense.Dense object at 0x000001D2BDB7EAF0>  check-value:  0.9990285030862329\n",
      "In layer  -3  :  <keras.layers.core.flatten.Flatten object at 0x000001D2BDB7EDF0>  check-value:  0.9990285030862329\n",
      "In layer  -4  :  <keras.layers.pooling.MaxPooling2D object at 0x000001D2BDB7E940>  check-value:  0.9990285030862327\n",
      "In layer  -5  :  <keras.layers.convolutional.Conv2D object at 0x000001D2BDB78A00>  check-value:  0.99902844\n",
      "In layer  -6  :  <keras.layers.convolutional.Conv2D object at 0x000001D2BDB6D5E0>  check-value:  0.9990285\n",
      "In layer  -7  :  <keras.layers.pooling.MaxPooling2D object at 0x000001D2BDB6D7F0>  check-value:  0.9990287\n",
      "In layer  -8  :  <keras.layers.convolutional.Conv2D object at 0x000001D2BDA0F8B0>  check-value:  0.9990286\n",
      "In first layer  -9  :  <keras.layers.convolutional.Conv2D object at 0x000001D2BD5BAAF0>  check-value:  0.99902856\n"
     ]
    }
   ],
   "source": [
    "R, inputs, outputs, weights, biases, rs = explainer.relprop(img, label)"
   ]
  },
  {
   "cell_type": "code",
   "execution_count": 10,
   "metadata": {},
   "outputs": [
    {
     "data": {
      "image/png": "[encoded data removed]",
      "text/plain": [
       "<Figure size 432x288 with 2 Axes>"
      ]
     },
     "metadata": {
      "needs_background": "light"
     },
     "output_type": "display_data"
    }
   ],
   "source": [
    "sns.heatmap(((R.sum(axis=3)[0,:,:])),center=0, vmax=np.max(R.sum(axis=3)[0,:,:]), vmin=np.min(R.sum(axis=3)[0,:,:]),cmap=\"RdBu\", square=True)\n",
    "_=plt.title(\"Actual class \"+str(np.argmax(label)))"
   ]
  },
  {
   "cell_type": "markdown",
   "metadata": {},
   "source": [
    "## Creating an adversarial attack and checking out the result"
   ]
  },
  {
   "cell_type": "code",
   "execution_count": null,
   "metadata": {},
   "outputs": [],
   "source": []
  }
 ],
 "metadata": {
  "kernelspec": {
   "display_name": "Python 3 (ipykernel)",
   "language": "python",
   "name": "python3"
  },
  "language_info": {
   "codemirror_mode": {
    "name": "ipython",
    "version": 3
   },
   "file_extension": ".py",
   "mimetype": "text/x-python",
   "name": "python",
   "nbconvert_exporter": "python",
   "pygments_lexer": "ipython3",
   "version": "3.8.13"
  }
 },
 "nbformat": 4,
 "nbformat_minor": 4
}
